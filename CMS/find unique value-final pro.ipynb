{
 "cells": [
  {
   "cell_type": "code",
   "execution_count": 1,
   "id": "405018fa",
   "metadata": {},
   "outputs": [],
   "source": [
    "import pandas as pd\n",
    "import numpy as np"
   ]
  },
  {
   "cell_type": "code",
   "execution_count": 12,
   "id": "3ab36e74",
   "metadata": {},
   "outputs": [
    {
     "data": {
      "text/html": [
       "<div>\n",
       "<style scoped>\n",
       "    .dataframe tbody tr th:only-of-type {\n",
       "        vertical-align: middle;\n",
       "    }\n",
       "\n",
       "    .dataframe tbody tr th {\n",
       "        vertical-align: top;\n",
       "    }\n",
       "\n",
       "    .dataframe thead th {\n",
       "        text-align: right;\n",
       "    }\n",
       "</style>\n",
       "<table border=\"1\" class=\"dataframe\">\n",
       "  <thead>\n",
       "    <tr style=\"text-align: right;\">\n",
       "      <th></th>\n",
       "      <th>S.NO.</th>\n",
       "      <th>PROGRAM GROUP</th>\n",
       "      <th>TRANSFORMATION</th>\n",
       "      <th>ACTIVITY ID</th>\n",
       "      <th>ACTIVITY DESCRIPTION</th>\n",
       "      <th>START DATE</th>\n",
       "      <th>END DATE</th>\n",
       "      <th>UNIT</th>\n",
       "      <th>PLANNED QTY</th>\n",
       "      <th>YEAR</th>\n",
       "      <th>MONTH</th>\n",
       "    </tr>\n",
       "  </thead>\n",
       "  <tbody>\n",
       "    <tr>\n",
       "      <th>0</th>\n",
       "      <td>1</td>\n",
       "      <td>BLD-2248-D-PW|A|1|A</td>\n",
       "      <td>PILING WORK</td>\n",
       "      <td>1583</td>\n",
       "      <td>P&amp;C bored cast in-situ pile-600mm /97 T</td>\n",
       "      <td>14-12-2019</td>\n",
       "      <td>25-06-2020</td>\n",
       "      <td>M</td>\n",
       "      <td>1987.5</td>\n",
       "      <td>2020</td>\n",
       "      <td>8</td>\n",
       "    </tr>\n",
       "    <tr>\n",
       "      <th>1</th>\n",
       "      <td>2</td>\n",
       "      <td>BLD-2248-D-PW|A|1|B</td>\n",
       "      <td>PILING WORK</td>\n",
       "      <td>1584</td>\n",
       "      <td>P&amp;C bored cast in-situ pile-750mm /158 T</td>\n",
       "      <td>14-12-2019</td>\n",
       "      <td>25-06-2020</td>\n",
       "      <td>M</td>\n",
       "      <td>24963.0</td>\n",
       "      <td>2020</td>\n",
       "      <td>8</td>\n",
       "    </tr>\n",
       "    <tr>\n",
       "      <th>2</th>\n",
       "      <td>3</td>\n",
       "      <td>BLD-2248-D-PW|A|2</td>\n",
       "      <td>PILING WORK</td>\n",
       "      <td>1585</td>\n",
       "      <td>P&amp;F reinf steel incl tran/strght/cut/Bnd</td>\n",
       "      <td>14-12-2019</td>\n",
       "      <td>25-06-2020</td>\n",
       "      <td>MT</td>\n",
       "      <td>1525.0</td>\n",
       "      <td>2020</td>\n",
       "      <td>8</td>\n",
       "    </tr>\n",
       "    <tr>\n",
       "      <th>3</th>\n",
       "      <td>4</td>\n",
       "      <td>BLD-2248-D-PW|A|3|A|I</td>\n",
       "      <td>PILING WORK</td>\n",
       "      <td>1586</td>\n",
       "      <td>Vertical load test/ 600 mm/ 97 T</td>\n",
       "      <td>20-02-2020</td>\n",
       "      <td>30-05-2020</td>\n",
       "      <td>EA</td>\n",
       "      <td>1.0</td>\n",
       "      <td>2020</td>\n",
       "      <td>8</td>\n",
       "    </tr>\n",
       "    <tr>\n",
       "      <th>4</th>\n",
       "      <td>5</td>\n",
       "      <td>BLD-2248-D-PW|A|3|A|II</td>\n",
       "      <td>PILING WORK</td>\n",
       "      <td>1587</td>\n",
       "      <td>Vertical load test/ 600 mm/ 158 T</td>\n",
       "      <td>20-02-2020</td>\n",
       "      <td>30-05-2020</td>\n",
       "      <td>EA</td>\n",
       "      <td>2.0</td>\n",
       "      <td>2020</td>\n",
       "      <td>8</td>\n",
       "    </tr>\n",
       "  </tbody>\n",
       "</table>\n",
       "</div>"
      ],
      "text/plain": [
       "   S.NO.           PROGRAM GROUP TRANSFORMATION  ACTIVITY ID  \\\n",
       "0      1     BLD-2248-D-PW|A|1|A    PILING WORK         1583   \n",
       "1      2     BLD-2248-D-PW|A|1|B    PILING WORK         1584   \n",
       "2      3       BLD-2248-D-PW|A|2    PILING WORK         1585   \n",
       "3      4   BLD-2248-D-PW|A|3|A|I    PILING WORK         1586   \n",
       "4      5  BLD-2248-D-PW|A|3|A|II    PILING WORK         1587   \n",
       "\n",
       "                       ACTIVITY DESCRIPTION  START DATE    END DATE UNIT  \\\n",
       "0   P&C bored cast in-situ pile-600mm /97 T  14-12-2019  25-06-2020    M   \n",
       "1  P&C bored cast in-situ pile-750mm /158 T  14-12-2019  25-06-2020    M   \n",
       "2  P&F reinf steel incl tran/strght/cut/Bnd  14-12-2019  25-06-2020   MT   \n",
       "3          Vertical load test/ 600 mm/ 97 T  20-02-2020  30-05-2020   EA   \n",
       "4         Vertical load test/ 600 mm/ 158 T  20-02-2020  30-05-2020   EA   \n",
       "\n",
       "   PLANNED QTY  YEAR  MONTH  \n",
       "0       1987.5  2020      8  \n",
       "1      24963.0  2020      8  \n",
       "2       1525.0  2020      8  \n",
       "3          1.0  2020      8  \n",
       "4          2.0  2020      8  "
      ]
     },
     "execution_count": 12,
     "metadata": {},
     "output_type": "execute_result"
    }
   ],
   "source": [
    "data = \"Construction - DPR Plan- Aug.csv\"\n",
    "df = pd.read_csv(data)\n",
    "df.head()"
   ]
  },
  {
   "cell_type": "code",
   "execution_count": 3,
   "id": "af033367",
   "metadata": {},
   "outputs": [
    {
     "data": {
      "text/plain": [
       "Index(['S.NO.', 'PROGRAM GROUP', 'TRANSFORMATION', 'ACTIVITY ID',\n",
       "       'ACTIVITY DESCRIPTION', 'START DATE', 'END DATE', 'UNIT', 'PLANNED QTY',\n",
       "       'YEAR', 'MONTH'],\n",
       "      dtype='object')"
      ]
     },
     "execution_count": 3,
     "metadata": {},
     "output_type": "execute_result"
    }
   ],
   "source": [
    "df.columns"
   ]
  },
  {
   "cell_type": "code",
   "execution_count": 7,
   "id": "1235c062",
   "metadata": {},
   "outputs": [
    {
     "data": {
      "text/html": [
       "<div>\n",
       "<style scoped>\n",
       "    .dataframe tbody tr th:only-of-type {\n",
       "        vertical-align: middle;\n",
       "    }\n",
       "\n",
       "    .dataframe tbody tr th {\n",
       "        vertical-align: top;\n",
       "    }\n",
       "\n",
       "    .dataframe thead th {\n",
       "        text-align: right;\n",
       "    }\n",
       "</style>\n",
       "<table border=\"1\" class=\"dataframe\">\n",
       "  <thead>\n",
       "    <tr style=\"text-align: right;\">\n",
       "      <th></th>\n",
       "      <th>S.NO.</th>\n",
       "      <th>ACTIVITY ID</th>\n",
       "      <th>PLANNED QTY</th>\n",
       "      <th>YEAR</th>\n",
       "      <th>MONTH</th>\n",
       "    </tr>\n",
       "  </thead>\n",
       "  <tbody>\n",
       "    <tr>\n",
       "      <th>S.NO.</th>\n",
       "      <td>1.000000</td>\n",
       "      <td>1.000000</td>\n",
       "      <td>-0.162828</td>\n",
       "      <td>NaN</td>\n",
       "      <td>NaN</td>\n",
       "    </tr>\n",
       "    <tr>\n",
       "      <th>ACTIVITY ID</th>\n",
       "      <td>1.000000</td>\n",
       "      <td>1.000000</td>\n",
       "      <td>-0.162828</td>\n",
       "      <td>NaN</td>\n",
       "      <td>NaN</td>\n",
       "    </tr>\n",
       "    <tr>\n",
       "      <th>PLANNED QTY</th>\n",
       "      <td>-0.162828</td>\n",
       "      <td>-0.162828</td>\n",
       "      <td>1.000000</td>\n",
       "      <td>NaN</td>\n",
       "      <td>NaN</td>\n",
       "    </tr>\n",
       "    <tr>\n",
       "      <th>YEAR</th>\n",
       "      <td>NaN</td>\n",
       "      <td>NaN</td>\n",
       "      <td>NaN</td>\n",
       "      <td>NaN</td>\n",
       "      <td>NaN</td>\n",
       "    </tr>\n",
       "    <tr>\n",
       "      <th>MONTH</th>\n",
       "      <td>NaN</td>\n",
       "      <td>NaN</td>\n",
       "      <td>NaN</td>\n",
       "      <td>NaN</td>\n",
       "      <td>NaN</td>\n",
       "    </tr>\n",
       "  </tbody>\n",
       "</table>\n",
       "</div>"
      ],
      "text/plain": [
       "                S.NO.  ACTIVITY ID  PLANNED QTY  YEAR  MONTH\n",
       "S.NO.        1.000000     1.000000    -0.162828   NaN    NaN\n",
       "ACTIVITY ID  1.000000     1.000000    -0.162828   NaN    NaN\n",
       "PLANNED QTY -0.162828    -0.162828     1.000000   NaN    NaN\n",
       "YEAR              NaN          NaN          NaN   NaN    NaN\n",
       "MONTH             NaN          NaN          NaN   NaN    NaN"
      ]
     },
     "execution_count": 7,
     "metadata": {},
     "output_type": "execute_result"
    }
   ],
   "source": [
    "df.corr()"
   ]
  },
  {
   "cell_type": "code",
   "execution_count": 8,
   "id": "ed05ae42",
   "metadata": {},
   "outputs": [
    {
     "data": {
      "text/plain": [
       "0"
      ]
     },
     "execution_count": 8,
     "metadata": {},
     "output_type": "execute_result"
    }
   ],
   "source": [
    "#find missing values\n",
    "\n",
    "df.isnull().values.sum()"
   ]
  },
  {
   "cell_type": "code",
   "execution_count": 9,
   "id": "b2cdbd3c",
   "metadata": {},
   "outputs": [
    {
     "data": {
      "text/plain": [
       "13"
      ]
     },
     "execution_count": 9,
     "metadata": {},
     "output_type": "execute_result"
    }
   ],
   "source": [
    "#find unique value in assigned column\n",
    "\n",
    "column_values = df[[ \"UNIT\"]].values.ravel()\n",
    "unique_values =  pd.unique(column_values)\n",
    "unique_values.size"
   ]
  },
  {
   "cell_type": "code",
   "execution_count": 10,
   "id": "fa487115",
   "metadata": {},
   "outputs": [
    {
     "data": {
      "text/plain": [
       "45"
      ]
     },
     "execution_count": 10,
     "metadata": {},
     "output_type": "execute_result"
    }
   ],
   "source": [
    "column_values = df[[ \"TRANSFORMATION\"]].values.ravel()\n",
    "unique_values =  pd.unique(column_values)\n",
    "unique_values.size"
   ]
  },
  {
   "cell_type": "code",
   "execution_count": null,
   "id": "3daced4b",
   "metadata": {},
   "outputs": [],
   "source": []
  }
 ],
 "metadata": {
  "kernelspec": {
   "display_name": "Python 3",
   "language": "python",
   "name": "python3"
  },
  "language_info": {
   "codemirror_mode": {
    "name": "ipython",
    "version": 3
   },
   "file_extension": ".py",
   "mimetype": "text/x-python",
   "name": "python",
   "nbconvert_exporter": "python",
   "pygments_lexer": "ipython3",
   "version": "3.8.8"
  }
 },
 "nbformat": 4,
 "nbformat_minor": 5
}
