{
 "cells": [
  {
   "cell_type": "code",
   "execution_count": 1,
   "id": "fbc1d3db",
   "metadata": {},
   "outputs": [],
   "source": [
    "from CM_Software import CM_Predict"
   ]
  },
  {
   "cell_type": "code",
   "execution_count": 4,
   "id": "cdf414a4",
   "metadata": {},
   "outputs": [
    {
     "data": {
      "text/plain": [
       "[' ========== Prediction for Activity 1: CCTC SERVEILLANCE SYSTEM  ==========',\n",
       " ' Predicted Completion Rate, Days per Unit: 20.247 (min: 0.413, max: 826.000)',\n",
       " ' Predicted Completion Rate, Units per Day: 0.049 (min: 0.001, max: 2.421)',\n",
       " ' Units: EA',\n",
       " ' Quantity: 23',\n",
       " ' --> Total Predicted Completion Time: 466 days',\n",
       " ' ========== Prediction for Activity 2: BRICK WORK aka ==========',\n",
       " ' Predicted Completion Rate, Days per Unit: 0.633 (min: 0.028, max: 82.600)',\n",
       " ' Predicted Completion Rate, Units per Day: 1.580 (min: 0.012, max: 36.053)',\n",
       " ' Units: M2 ',\n",
       " ' Quantity: 40',\n",
       " ' --> Total Predicted Completion Time: 26 days']"
      ]
     },
     "execution_count": 4,
     "metadata": {},
     "output_type": "execute_result"
    }
   ],
   "source": [
    "CM_Predict([\"23\",\"40\"],[\"CCTC SERVEILLANCE SYSTEM\",\"BRICK WORK\"],[\"\",\"aka\"],\"\",\"\")"
   ]
  },
  {
   "cell_type": "code",
   "execution_count": null,
   "id": "f4b692d6",
   "metadata": {},
   "outputs": [],
   "source": []
  }
 ],
 "metadata": {
  "kernelspec": {
   "display_name": "Python 3 (ipykernel)",
   "language": "python",
   "name": "python3"
  },
  "language_info": {
   "codemirror_mode": {
    "name": "ipython",
    "version": 3
   },
   "file_extension": ".py",
   "mimetype": "text/x-python",
   "name": "python",
   "nbconvert_exporter": "python",
   "pygments_lexer": "ipython3",
   "version": "3.10.0"
  }
 },
 "nbformat": 4,
 "nbformat_minor": 5
}
