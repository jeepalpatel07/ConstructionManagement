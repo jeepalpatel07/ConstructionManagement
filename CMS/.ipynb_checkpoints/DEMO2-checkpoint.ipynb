{
 "cells": [
  {
   "cell_type": "code",
   "execution_count": 1,
   "metadata": {},
   "outputs": [],
   "source": [
    "from CM_Software import CM_Predict"
   ]
  },
  {
   "cell_type": "code",
   "execution_count": 2,
   "metadata": {},
   "outputs": [
    {
     "name": "stdout",
     "output_type": "stream",
     "text": [
      "Days per unit: 0.297\n",
      "Units per Day: 3.365\n"
     ]
    }
   ],
   "source": [
    "CM_Predict('Mech Excavation upto 4.5M & above')"
   ]
  },
  {
   "cell_type": "code",
   "execution_count": 3,
   "metadata": {},
   "outputs": [
    {
     "name": "stdout",
     "output_type": "stream",
     "text": [
      "Days per unit: 0.168\n",
      "Units per Day: 5.951\n"
     ]
    }
   ],
   "source": [
    "CM_Predict('mech excavation upto 4.5M')"
   ]
  },
  {
   "cell_type": "code",
   "execution_count": 4,
   "metadata": {},
   "outputs": [
    {
     "name": "stdout",
     "output_type": "stream",
     "text": [
      "Days per unit: 0.166\n",
      "Units per Day: 6.034\n"
     ]
    }
   ],
   "source": [
    "CM_Predict('mech excavation 4.5M')"
   ]
  },
  {
   "cell_type": "code",
   "execution_count": 5,
   "metadata": {},
   "outputs": [
    {
     "name": "stdout",
     "output_type": "stream",
     "text": [
      "Days per unit: 42.914\n",
      "Units per Day: 0.023\n"
     ]
    }
   ],
   "source": [
    "CM_Predict('Vertical load test')"
   ]
  },
  {
   "cell_type": "code",
   "execution_count": null,
   "metadata": {},
   "outputs": [],
   "source": []
  }
 ],
 "metadata": {
  "kernelspec": {
   "display_name": "Python 3",
   "language": "python",
   "name": "python3"
  },
  "language_info": {
   "codemirror_mode": {
    "name": "ipython",
    "version": 3
   },
   "file_extension": ".py",
   "mimetype": "text/x-python",
   "name": "python",
   "nbconvert_exporter": "python",
   "pygments_lexer": "ipython3",
   "version": "3.8.5"
  }
 },
 "nbformat": 4,
 "nbformat_minor": 4
}
